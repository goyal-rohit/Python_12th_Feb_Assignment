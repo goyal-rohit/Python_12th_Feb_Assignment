{
 "cells": [
  {
   "cell_type": "markdown",
   "id": "3334fb5c-6790-4d7a-8e64-bfe294943d5b",
   "metadata": {},
   "source": [
    "Q1. What is an exception in python? Write the difference between exception and syntax errors."
   ]
  },
  {
   "cell_type": "markdown",
   "id": "cd9c38f3-bf90-4e95-8c1b-a92db863a022",
   "metadata": {},
   "source": [
    "An exception is an event that occurs during the execution of a program that disrupts the normal flow of the program's instructions. When an exception occurs, the Python interpreter stops executing the program and raises an exception object that contains information about the error, such as its type and a traceback of where the error occurred."
   ]
  },
  {
   "cell_type": "markdown",
   "id": "dbd25685-8704-4f28-b146-1fc11e47644f",
   "metadata": {},
   "source": [
    "Syntax errors are errors that occur when the interpreter cannot understand the code you have written because it violates the syntax rules of the Python language. Syntax errors occur when you write invalid code, such as forgetting to close a parenthesis or using an invalid keyword."
   ]
  },
  {
   "cell_type": "markdown",
   "id": "2a0ce40c-101e-48a0-9a56-554cc5adfab3",
   "metadata": {},
   "source": [
    "The main difference between exceptions and syntax errors is that exceptions occur during the execution of the program, while syntax errors occur before the program is executed. Syntax errors are usually caught by the Python interpreter before the program starts running, whereas exceptions are caught during the program's execution."
   ]
  },
  {
   "cell_type": "markdown",
   "id": "c9c94822-d6b7-48a3-920a-5d1bace2cde9",
   "metadata": {},
   "source": [
    "Q2. What happens when an exception is not handled? Explain with an example"
   ]
  },
  {
   "cell_type": "markdown",
   "id": "d86ba766-7fb6-431b-acbb-b76821e64d8c",
   "metadata": {},
   "source": [
    "When an exception is not handled, it leads to what is called an \"unhandled exception\", which causes the program to terminate abruptly and display an error message that describes the exception that occurred.\n",
    "This error message indicates that an unhandled exception occurred in the program, and the program terminated abruptly without executing any further code."
   ]
  },
  {
   "cell_type": "code",
   "execution_count": 1,
   "id": "f0666723-8408-4c44-8c29-f039dab96b2e",
   "metadata": {},
   "outputs": [
    {
     "ename": "ZeroDivisionError",
     "evalue": "division by zero",
     "output_type": "error",
     "traceback": [
      "\u001b[1;31m---------------------------------------------------------------------------\u001b[0m",
      "\u001b[1;31mZeroDivisionError\u001b[0m                         Traceback (most recent call last)",
      "\u001b[1;32m~\\AppData\\Local\\Temp\\ipykernel_150212\\299203298.py\u001b[0m in \u001b[0;36m<module>\u001b[1;34m\u001b[0m\n\u001b[0;32m      1\u001b[0m \u001b[0mnumerator\u001b[0m \u001b[1;33m=\u001b[0m \u001b[1;36m10\u001b[0m\u001b[1;33m\u001b[0m\u001b[1;33m\u001b[0m\u001b[0m\n\u001b[0;32m      2\u001b[0m \u001b[0mdenominator\u001b[0m \u001b[1;33m=\u001b[0m \u001b[1;36m0\u001b[0m\u001b[1;33m\u001b[0m\u001b[1;33m\u001b[0m\u001b[0m\n\u001b[1;32m----> 3\u001b[1;33m \u001b[0mresult\u001b[0m \u001b[1;33m=\u001b[0m \u001b[0mnumerator\u001b[0m \u001b[1;33m/\u001b[0m \u001b[0mdenominator\u001b[0m\u001b[1;33m\u001b[0m\u001b[1;33m\u001b[0m\u001b[0m\n\u001b[0m",
      "\u001b[1;31mZeroDivisionError\u001b[0m: division by zero"
     ]
    }
   ],
   "source": [
    "numerator = 10\n",
    "denominator = 0\n",
    "result = numerator / denominator"
   ]
  },
  {
   "cell_type": "code",
   "execution_count": 3,
   "id": "dcb68575-4fcc-444f-bc48-b83e2a0757d5",
   "metadata": {},
   "outputs": [
    {
     "name": "stdout",
     "output_type": "stream",
     "text": [
      "Exception occured division by zero\n"
     ]
    }
   ],
   "source": [
    "try:\n",
    "    numerator = 10\n",
    "    denominator = 0\n",
    "    result = numerator / denominator\n",
    "except Exception as e:\n",
    "    print(\"Exception occured\",e)\n",
    "\n"
   ]
  },
  {
   "cell_type": "markdown",
   "id": "5fc064ec-147d-4de4-8668-0dc30f67ea74",
   "metadata": {},
   "source": [
    "Q3. Which python statements are used to catch and handle exceptions? Explain with an example"
   ]
  },
  {
   "cell_type": "markdown",
   "id": "41374341-0009-404a-b060-cf47b994f296",
   "metadata": {},
   "source": [
    "In Python, Try-except statements are used to catch and handle exceptions."
   ]
  },
  {
   "cell_type": "code",
   "execution_count": 4,
   "id": "18598ea6-c073-4cff-b381-60b935708236",
   "metadata": {},
   "outputs": [
    {
     "name": "stdout",
     "output_type": "stream",
     "text": [
      "Exception occured division by zero\n"
     ]
    }
   ],
   "source": [
    "try:\n",
    "    numerator = 10\n",
    "    denominator = 0\n",
    "    result = numerator / denominator\n",
    "except Exception as e:\n",
    "    print(\"Exception occured\",e)"
   ]
  },
  {
   "cell_type": "markdown",
   "id": "97382b37-1716-45e0-aa41-b364517befc5",
   "metadata": {},
   "source": [
    "Q4. Explain with an example:"
   ]
  },
  {
   "cell_type": "markdown",
   "id": "84a63e5e-3055-4450-ae0c-7e8432c5f68c",
   "metadata": {},
   "source": [
    "a. Try and else"
   ]
  },
  {
   "cell_type": "markdown",
   "id": "5c69af3f-47cf-485e-adc7-970533954e17",
   "metadata": {},
   "source": [
    "Try is a python statement used to catch the exception.\n",
    "\n",
    "Else statement is only executed if the Try statement is executed without any exception."
   ]
  },
  {
   "cell_type": "code",
   "execution_count": 9,
   "id": "3b97adb6-ab3c-47ec-8178-8bf8ffe534a7",
   "metadata": {},
   "outputs": [
    {
     "name": "stdout",
     "output_type": "stream",
     "text": [
      "Exception occured division by zero\n"
     ]
    }
   ],
   "source": [
    "try:\n",
    "    numerator = 10\n",
    "    denominator = 0\n",
    "    result = numerator / denominator\n",
    "except Exception as e:\n",
    "    print(\"Exception occured\",e)\n",
    "else:\n",
    "    print(\"This will be run only if try is executed successfully\")"
   ]
  },
  {
   "cell_type": "code",
   "execution_count": 10,
   "id": "a8e99ecf-e57c-46d1-96d1-ce12a5908ec9",
   "metadata": {},
   "outputs": [
    {
     "name": "stdout",
     "output_type": "stream",
     "text": [
      "This will be run only if try is executed successfully\n"
     ]
    }
   ],
   "source": [
    "try:\n",
    "    numerator = 10\n",
    "    denominator = 1\n",
    "    result = numerator / denominator\n",
    "except Exception as e:\n",
    "    print(\"Exception occured\",e)\n",
    "else:\n",
    "    print(\"This will be run only if try is executed successfully\")"
   ]
  },
  {
   "cell_type": "markdown",
   "id": "3030f71e-abb5-42bf-a8d9-275cb5cf026b",
   "metadata": {},
   "source": [
    "b. Finally"
   ]
  },
  {
   "cell_type": "markdown",
   "id": "69f18a08-995a-4abd-9a81-1a76baab1346",
   "metadata": {},
   "source": [
    "Finally is the 4th case of try and handle exception block. The Finally statement is used, if a block needs to be executed regardless of the fact that an exception is occured or not, handled or not."
   ]
  },
  {
   "cell_type": "code",
   "execution_count": 11,
   "id": "075567dc-75bf-4fc0-8c80-93a49eb73611",
   "metadata": {},
   "outputs": [
    {
     "name": "stdout",
     "output_type": "stream",
     "text": [
      "Exception occured division by zero\n",
      "This will always be executed\n"
     ]
    }
   ],
   "source": [
    "try:\n",
    "    numerator = 10\n",
    "    denominator = 0\n",
    "    result = numerator / denominator\n",
    "except Exception as e:\n",
    "    print(\"Exception occured\",e)\n",
    "finally:\n",
    "    print(\"This will always be executed\")"
   ]
  },
  {
   "cell_type": "code",
   "execution_count": 12,
   "id": "7aba7680-4866-46dc-b839-eccf66bf4247",
   "metadata": {},
   "outputs": [
    {
     "name": "stdout",
     "output_type": "stream",
     "text": [
      "This will always be executed\n"
     ]
    }
   ],
   "source": [
    "try:\n",
    "    numerator = 10\n",
    "    denominator = 1\n",
    "    result = numerator / denominator\n",
    "except Exception as e:\n",
    "    print(\"Exception occured\",e)\n",
    "finally:\n",
    "    print(\"This will always be executed\")"
   ]
  },
  {
   "cell_type": "markdown",
   "id": "671cc9f7-0a58-4bd5-8996-7a698eecc2be",
   "metadata": {},
   "source": [
    "c. Raise"
   ]
  },
  {
   "cell_type": "markdown",
   "id": "18c026f3-2ab7-4264-9f2d-5623e4e213d8",
   "metadata": {},
   "source": [
    "Raise is a reserved keyword used in a custom exception handling. When user creates a custom handling statement, raise is used to call the custom class "
   ]
  },
  {
   "cell_type": "code",
   "execution_count": 16,
   "id": "2874e9ac-3968-493c-a280-b9a5b3032259",
   "metadata": {},
   "outputs": [
    {
     "name": "stdin",
     "output_type": "stream",
     "text": [
      "Please enter your age 500\n"
     ]
    },
    {
     "name": "stdout",
     "output_type": "stream",
     "text": [
      "You can't live that long :P\n"
     ]
    }
   ],
   "source": [
    "class custom_exp(Exception):\n",
    "    def __int__(self, msg):\n",
    "        self.msg = msg\n",
    "\n",
    "def validate(age):\n",
    "    if age<0:\n",
    "        raise custom_exp(\"Age can't be less than Zero\")\n",
    "    elif age>150:\n",
    "        raise custom_exp(\"You can't live that long :P\")\n",
    "    else:\n",
    "        pass\n",
    "\n",
    "try:\n",
    "    age = int(input(\"Please enter your age\"))\n",
    "    validate(age)\n",
    "except custom_exp as e:\n",
    "    print(e)"
   ]
  },
  {
   "cell_type": "markdown",
   "id": "9cacbbc6-6b59-4f3a-b6cc-909df7cec0e0",
   "metadata": {},
   "source": [
    "Q5. What are Custom Exceptions in python? Why do we need Custom Exceptions? Explain with an example."
   ]
  },
  {
   "cell_type": "markdown",
   "id": "d9b4d4c6-5f04-49cd-894e-11a78e136630",
   "metadata": {},
   "source": [
    "Custom exceptions in Python are user-defined exceptions that are created by the programmer to handle specific types of errors that are not covered by the built-in exceptions in Python. Custom exceptions are created by subclassing the Exception class or any of its subclasses."
   ]
  },
  {
   "cell_type": "markdown",
   "id": "50facb35-9215-4156-b03c-722136f1100b",
   "metadata": {},
   "source": [
    "We need custom exceptions because sometimes the built-in exceptions in Python may not be sufficient to handle all the possible error scenarios in our code. By creating our own custom exceptions, we can provide more specific information about the error and create more meaningful error messages that can help in debugging and maintaining the code."
   ]
  },
  {
   "cell_type": "code",
   "execution_count": 17,
   "id": "bcfac74b-b02a-4751-89b6-522b622d38f7",
   "metadata": {},
   "outputs": [
    {
     "name": "stdin",
     "output_type": "stream",
     "text": [
      "Please enter your age -50\n"
     ]
    },
    {
     "name": "stdout",
     "output_type": "stream",
     "text": [
      "Age can't be less than Zero\n"
     ]
    }
   ],
   "source": [
    "class custom_exp(Exception):\n",
    "    def __int__(self, msg):\n",
    "        self.msg = msg\n",
    "\n",
    "def validate(age):\n",
    "    if age<0:\n",
    "        raise custom_exp(\"Age can't be less than Zero\")\n",
    "    elif age>150:\n",
    "        raise custom_exp(\"You can't live that long :P\")\n",
    "    else:\n",
    "        pass\n",
    "\n",
    "try:\n",
    "    age = int(input(\"Please enter your age\"))\n",
    "    validate(age)\n",
    "except custom_exp as e:\n",
    "    print(e)"
   ]
  },
  {
   "cell_type": "markdown",
   "id": "1a8d518a-30b4-433a-aa6b-724279f483f8",
   "metadata": {},
   "source": [
    "Here, syntatically -50 as integer is correct, but in context of the code, age can't be negative."
   ]
  },
  {
   "cell_type": "markdown",
   "id": "46fbd421-f315-45ee-806c-57b03d4f6f2e",
   "metadata": {},
   "source": [
    "Q6. Create a custom exception class. Use this class to handle an exception"
   ]
  },
  {
   "cell_type": "code",
   "execution_count": 18,
   "id": "f7c091aa-e395-4127-b392-aefbded15b18",
   "metadata": {},
   "outputs": [
    {
     "name": "stdin",
     "output_type": "stream",
     "text": [
      "Please enter your age 500\n"
     ]
    },
    {
     "name": "stdout",
     "output_type": "stream",
     "text": [
      "You can't live that long :P\n"
     ]
    }
   ],
   "source": [
    "class custom_exp(Exception):\n",
    "    def __int__(self, msg):\n",
    "        self.msg = msg\n",
    "\n",
    "def validate(age):\n",
    "    if age<0:\n",
    "        raise custom_exp(\"Age can't be less than Zero\")\n",
    "    elif age>150:\n",
    "        raise custom_exp(\"You can't live that long :P\")\n",
    "    else:\n",
    "        pass\n",
    "\n",
    "try:\n",
    "    age = int(input(\"Please enter your age\"))\n",
    "    validate(age)\n",
    "except custom_exp as e:\n",
    "    print(e)"
   ]
  },
  {
   "cell_type": "code",
   "execution_count": null,
   "id": "40ac0e1b-d8ad-4389-beba-9752600ba0b5",
   "metadata": {},
   "outputs": [],
   "source": []
  }
 ],
 "metadata": {
  "kernelspec": {
   "display_name": "Python 3 (ipykernel)",
   "language": "python",
   "name": "python3"
  },
  "language_info": {
   "codemirror_mode": {
    "name": "ipython",
    "version": 3
   },
   "file_extension": ".py",
   "mimetype": "text/x-python",
   "name": "python",
   "nbconvert_exporter": "python",
   "pygments_lexer": "ipython3",
   "version": "3.9.13"
  }
 },
 "nbformat": 4,
 "nbformat_minor": 5
}
